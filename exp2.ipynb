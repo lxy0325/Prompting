{
 "cells": [
  {
   "cell_type": "markdown",
   "metadata": {},
   "source": [
    "This document is based on the paper https://arxiv.org/abs/2305.13264.\n",
    "\n",
    "The database is sourced from: https://github.com/jennhu/metalinguistic-prompting.git"
   ]
  },
  {
   "cell_type": "code",
   "execution_count": 1,
   "metadata": {},
   "outputs": [],
   "source": [
    "import torch\n",
    "from transformers import AutoTokenizer, AutoModelForCausalLM\n",
    "import pandas as pd\n",
    "from scipy.stats import pearsonr\n",
    "from tqdm import tqdm\n",
    "import random\n",
    "import os"
   ]
  },
  {
   "cell_type": "markdown",
   "metadata": {},
   "source": [
    "### Model"
   ]
  },
  {
   "cell_type": "code",
   "execution_count": 2,
   "metadata": {},
   "outputs": [
    {
     "name": "stdout",
     "output_type": "stream",
     "text": [
      "Using device: cpu\n"
     ]
    }
   ],
   "source": [
    "MODEL_NAME = \"deepseek-ai/deepseek-coder-1.3b-base\"\n",
    "DEVICE = \"cuda\" if torch.cuda.is_available() else \"cpu\"\n",
    "print(f\"Using device: {DEVICE}\")"
   ]
  },
  {
   "cell_type": "markdown",
   "metadata": {},
   "source": [
    "### Dataset"
   ]
  },
  {
   "cell_type": "code",
   "execution_count": 3,
   "metadata": {},
   "outputs": [],
   "source": [
    "DATASET_PATH = \"datasets/exp2/dtfit/corpus.csv\"\n",
    "NUM_SAMPLES = 395\n",
    "RANDOM_SEED = 42  "
   ]
  },
  {
   "cell_type": "markdown",
   "metadata": {},
   "source": [
    "### Prompt"
   ]
  },
  {
   "cell_type": "code",
   "execution_count": 4,
   "metadata": {},
   "outputs": [],
   "source": [
    "PROMPT_TEMPLATES = {\n",
    "    \"MetaQuestionSimple\": (\n",
    "        \"What word is most likely to come next in the following sentence \"\n",
    "        \"({option1}, or {option2})? {prefix}\"\n",
    "    ),\n",
    "    \"MetaInstruct\": (\n",
    "        \"You are a helpful writing assistant. Tell me what word is most likely \"\n",
    "        \"to come next in the following sentence ({option1}, or {option2})?: {prefix}\"\n",
    "    ),\n",
    "    \"MetaQuestionComplex\": (\n",
    "        \"Here is the beginning of an English sentence: {prefix}... \"\n",
    "        \"What word is more likely to come next: {option1}, or {option2}? Answer:\"\n",
    "    )\n",
    "}"
   ]
  },
  {
   "cell_type": "markdown",
   "metadata": {},
   "source": [
    "### Loading model and dataset"
   ]
  },
  {
   "cell_type": "code",
   "execution_count": 5,
   "metadata": {},
   "outputs": [],
   "source": [
    "def load_model_and_tokenizer(model_name):\n",
    "    \"\"\"Loads the model and tokenizer from Hugging Face.\"\"\"\n",
    "    print(f\"Using device: {DEVICE}\")\n",
    "    print(f\"Loading model: {model_name}...\")\n",
    "    tokenizer = AutoTokenizer.from_pretrained(model_name)\n",
    "    model = AutoModelForCausalLM.from_pretrained(\n",
    "        model_name,\n",
    "        trust_remote_code=True,\n",
    "        # Use float16 on GPU for less memory usage\n",
    "        torch_dtype=torch.float16 if DEVICE == \"cuda\" else torch.float32\n",
    "    ).to(DEVICE)\n",
    "    model.eval()\n",
    "    print(\"Model loaded.\")\n",
    "    return model, tokenizer"
   ]
  },
  {
   "cell_type": "code",
   "execution_count": 6,
   "metadata": {},
   "outputs": [],
   "source": [
    "def load_and_prepare_dataset(filepath, num_samples, seed):\n",
    "    \"\"\"\n",
    "    Loads, validates, renames columns, and subsamples the dataset\n",
    "    from the wide-format corpus.csv file.\n",
    "    \"\"\"\n",
    "    print(f\"Loading dataset from: {filepath}\")\n",
    "    if not os.path.exists(filepath):\n",
    "        raise FileNotFoundError(f\"Dataset file not found at: {filepath}. Please update the DATASET_PATH variable.\")\n",
    "\n",
    "    df = pd.read_csv(filepath)\n",
    "\n",
    "    df = df.rename(columns={\n",
    "        \"good_continuation\": \"plausible\",\n",
    "        \"bad_continuation\": \"implausible\"\n",
    "    })\n",
    "    \n",
    "    print(f\"Loaded and renamed {len(df)} total items. Columns are now: {list(df.columns)}\")\n",
    "    print(f\"Subsampling to {num_samples} items...\")\n",
    "    \n",
    "    dataset_sample_df = df.sample(n=num_samples, random_state=seed)\n",
    "    \n",
    "    return dataset_sample_df.to_dict('records')"
   ]
  },
  {
   "cell_type": "markdown",
   "metadata": {},
   "source": [
    "### Log probability"
   ]
  },
  {
   "cell_type": "code",
   "execution_count": 7,
   "metadata": {},
   "outputs": [],
   "source": [
    "def get_log_probs_of_continuations(model, tokenizer, text_prompt, continuations):\n",
    "\n",
    "    with torch.no_grad():\n",
    "        prompt_with_space = text_prompt.strip() + \" \"\n",
    "        inputs = tokenizer(prompt_with_space, return_tensors=\"pt\").to(DEVICE)\n",
    "        #if 'token_type_ids' in inputs:\n",
    "            #del inputs['token_type_ids']\n",
    "        \n",
    "        outputs = model(**inputs)\n",
    "        logits = outputs.logits[0, -1, :]\n",
    "        log_probs = torch.nn.functional.log_softmax(logits, dim=-1)\n",
    "        \n",
    "        continuation_ids = [\n",
    "            tokenizer(c, add_special_tokens=False).input_ids[0] for c in continuations\n",
    "        ]\n",
    "        \n",
    "        result_log_probs = [log_probs[cid].item() for cid in continuation_ids]\n",
    "        return result_log_probs"
   ]
  },
  {
   "cell_type": "markdown",
   "metadata": {},
   "source": [
    "### Experiment "
   ]
  },
  {
   "cell_type": "code",
   "execution_count": 8,
   "metadata": {},
   "outputs": [],
   "source": [
    "def run_experiment(model, tokenizer, dataset):\n",
    "    results = []\n",
    "    print(f\"\\nRunning experiment on {len(dataset)} items...\")\n",
    "    \n",
    "    for item in tqdm(dataset):\n",
    "        prefix = item[\"prefix\"]\n",
    "        plausible = item[\"plausible\"]\n",
    "        implausible = item[\"implausible\"]\n",
    "        \n",
    "        item_results = {\"prefix\": prefix, \"plausible\": plausible, \"implausible\": implausible}\n",
    "\n",
    "        options = [plausible, implausible]\n",
    "        random.shuffle(options)\n",
    "        option1, option2 = options\n",
    "\n",
    "        # Direct Measurement\n",
    "        direct_log_probs = get_log_probs_of_continuations(model, tokenizer, prefix, options)\n",
    "        \n",
    "        if option1 == plausible:\n",
    "            item_results['direct_log_prob_plausible'] = direct_log_probs[0]\n",
    "            item_results['direct_log_prob_implausible'] = direct_log_probs[1]\n",
    "        else:\n",
    "            item_results['direct_log_prob_plausible'] = direct_log_probs[1]\n",
    "            item_results['direct_log_prob_implausible'] = direct_log_probs[0]\n",
    "\n",
    "        # Metalinguistic Methods ---\n",
    "        # for method_name, template in PROMPT_TEMPLATES.items():\n",
    "        #     prompt = template.format(prefix=prefix, option1=option1, option2=option2)\n",
    "        #     meta_log_probs = get_log_probs_of_continuations(model, tokenizer, prompt, options)\n",
    "            \n",
    "        #     # Store results for this meta method\n",
    "        #     if option1 == plausible:\n",
    "        #         item_results[f'{method_name}_log_prob_plausible'] = meta_log_probs[0]\n",
    "        #         item_results[f'{method_name}_log_prob_implausible'] = meta_log_probs[1]\n",
    "        #     else:\n",
    "        #         item_results[f'{method_name}_log_prob_plausible'] = meta_log_probs[1]\n",
    "        #         item_results[f'{method_name}_log_prob_implausible'] = meta_log_probs[0]\n",
    "\n",
    "        # Metalinguistic Methods\n",
    "        for method_name, template in PROMPT_TEMPLATES.items():\n",
    "            prompt_a = template.format(prefix=prefix, option1=plausible, option2=implausible)\n",
    "            lp_plaus_a, lp_impl_a = get_log_probs_of_continuations(\n",
    "                model, tokenizer, prompt_a, [plausible, implausible]\n",
    "            )\n",
    "\n",
    "            prompt_b = template.format(prefix=prefix, option1=implausible, option2=plausible)\n",
    "            lp_impl_b, lp_plaus_b = get_log_probs_of_continuations(\n",
    "                model, tokenizer, prompt_b, [implausible, plausible]\n",
    "            )\n",
    "\n",
    "            item_results[f'{method_name}_log_prob_plausible']   = 0.5 * (lp_plaus_a + lp_plaus_b)\n",
    "            item_results[f'{method_name}_log_prob_implausible'] = 0.5 * (lp_impl_a  + lp_impl_b)\n",
    "\n",
    "        results.append(item_results)\n",
    "\n",
    "    return pd.DataFrame(results)"
   ]
  },
  {
   "cell_type": "code",
   "execution_count": 9,
   "metadata": {},
   "outputs": [],
   "source": [
    "def analyze_results(df):\n",
    "\n",
    "    print(\"\\n--- Experiment 2 Full Reproduction Results ---\")\n",
    "    print(f\"Model used: {MODEL_NAME}\")\n",
    "\n",
    "    print(\"\\n--- Task Performance (Accuracy) ---\")\n",
    "    print(\"Proportion of items where P(plausible) > P(implausible)\\n\")\n",
    "    \n",
    "    methods = [\"direct\"] + list(PROMPT_TEMPLATES.keys())\n",
    "    for method in methods:\n",
    "        correct = (df[f'{method}_log_prob_plausible'] > df[f'{method}_log_prob_implausible']).sum()\n",
    "        accuracy = correct / len(df)\n",
    "        print(f\"{method:<22}: {accuracy:.2%}\")\n",
    "\n",
    "    print(\"\\n--- Internal Consistency (Pearson Correlation) ---\")\n",
    "    print(\"Correlation of log-prob differentials between Direct and Metalinguistic methods.\\n\")\n",
    "    \n",
    "    df['direct_diff'] = df['direct_log_prob_plausible'] - df['direct_log_prob_implausible']\n",
    "\n",
    "    for method_name in PROMPT_TEMPLATES.keys():\n",
    "        df[f'{method_name}_diff'] = df[f'{method_name}_log_prob_plausible'] - df[f'{method_name}_log_prob_implausible']\n",
    "        \n",
    "        corr, p_value = pearsonr(df['direct_diff'], df[f'{method_name}_diff'])\n",
    "        print(f\"Direct vs. {method_name:<20}: r = {corr:.3f} (p = {p_value:.3f})\")"
   ]
  },
  {
   "cell_type": "markdown",
   "metadata": {},
   "source": [
    "### Analysis"
   ]
  },
  {
   "cell_type": "code",
   "execution_count": 10,
   "metadata": {},
   "outputs": [],
   "source": [
    "import matplotlib.pyplot as plt\n",
    "import seaborn as sns"
   ]
  },
  {
   "cell_type": "code",
   "execution_count": 11,
   "metadata": {},
   "outputs": [],
   "source": [
    "def generate_results_plot(results_df, prompt_templates):\n",
    "    \"\"\"\n",
    "    Generates and saves a bar chart of the accuracy results, similar to Figure 2b.\n",
    "    \"\"\"\n",
    "    print(\"\\nGenerating results plot...\")\n",
    "    \n",
    "    methods = [\"direct\"] + list(prompt_templates.keys())\n",
    "    accuracies = []\n",
    "\n",
    "    for method in methods:\n",
    "        correct_predictions = (results_df[f'{method}_log_prob_plausible'] > results_df[f'{method}_log_prob_implausible']).sum()\n",
    "        accuracy = correct_predictions / len(results_df)\n",
    "        accuracies.append(accuracy)\n",
    "\n",
    "    plot_labels = ['Direct', 'MetaQuestionSimple', 'MetaInstruct', 'MetaQuestionComplex']\n",
    "    \n",
    "    plt.style.use('seaborn-v0_8-whitegrid')\n",
    "    fig, ax = plt.subplots(figsize=(10, 6))\n",
    "\n",
    "    colors = ['#2f2f2f', '#8f6A7B', '#c49a9a', '#f3e1d3']\n",
    "    bars = ax.bar(plot_labels, accuracies, color=colors, edgecolor='black')\n",
    "\n",
    "    ax.axhline(y=0.5, color='gray', linestyle='--', linewidth=1.5, label='Random Baseline (50%)')\n",
    "\n",
    "    ax.set_ylabel('Accuracy', fontsize=12)\n",
    "    ax.set_title('Experiment 2: Word Comparison (Semantic Plausibility)', fontsize=14, pad=20)\n",
    "    ax.set_ylim(0, 1.05)\n",
    "    ax.tick_params(axis='x', rotation=15, labelsize=10)\n",
    "    ax.legend()\n",
    "    \n",
    "    for bar in bars:\n",
    "        yval = bar.get_height()\n",
    "        ax.text(bar.get_x() + bar.get_width()/2.0, yval + 0.02, f'{yval:.2%}', ha='center', va='bottom')\n",
    "\n",
    "    output_filename = 'experiment_2_results.pdf'\n",
    "    plt.savefig(output_filename, bbox_inches='tight')\n",
    "    print(f\"Plot saved as '{output_filename}'\")\n",
    "    \n",
    "    plt.show()"
   ]
  },
  {
   "cell_type": "code",
   "execution_count": 12,
   "metadata": {},
   "outputs": [],
   "source": [
    "def save_detailed_results(results_df, filename=\"detailed_experiment_2_output.csv\"):\n",
    "    \"\"\"\n",
    "    Saves the full DataFrame with all log probabilities to a CSV file.\n",
    "    \"\"\"\n",
    "    columns_to_save = ['prefix', 'plausible', 'implausible']\n",
    "    for method in [\"direct\"] + list(PROMPT_TEMPLATES.keys()):\n",
    "        columns_to_save.append(f'{method}_log_prob_plausible')\n",
    "        columns_to_save.append(f'{method}_log_prob_implausible')\n",
    "\n",
    "    results_df_to_save = results_df[columns_to_save]\n",
    "    results_df_to_save.to_csv(filename, index=False)\n",
    "    print(f\"Detailed results and log probabilities saved to '{filename}'\")"
   ]
  },
  {
   "cell_type": "code",
   "execution_count": 13,
   "metadata": {},
   "outputs": [],
   "source": [
    "def comment_on_results(results_df, prompt_templates):\n",
    "    \"\"\"\n",
    "    Prints a detailed analysis of the results with examples.\n",
    "    \"\"\"\n",
    "    print(\"\\n\" + \"=\"*25 + \" Analysis of Results \" + \"=\"*25)\n",
    "    \n",
    "    print(\"\\n[1] Summary of the Experiment\")\n",
    "    print(\"-\" * 30)\n",
    "    print(f\"I have replicated Experiment 2 from Hu & Levy (2023) using the '{MODEL_NAME}' model.\")\n",
    "    print(f\"The experiment was run on {len(results_df)} samples from the provided dataset.\")\n",
    "    print(\"Four methods were tested to evaluate the model's knowledge of semantic plausibility:\")\n",
    "    print(\"  - Direct: Checking raw next-word probabilities.\")\n",
    "    print(\"  - MetaQuestionSimple, MetaInstruct, MetaQuestionComplex: Querying the model using natural language prompts.\")\n",
    "    \n",
    "    print(\"\\n[2] Key Findings\")\n",
    "    print(\"-\" * 30)\n",
    "    print(\"The results align with the primary findings of the original paper:\")\n",
    "    print(\"  - Finding A (Result #2 from paper): The 'Direct' measurement method achieves the highest accuracy.\")\n",
    "    print(\"    This suggests that directly querying the model's probability distribution is the most reliable way to assess its core knowledge.\")\n",
    "    print(\"  - Finding B (Result #1 from paper): The metalinguistic prompts, while performing well above chance, are less accurate than the direct method.\")\n",
    "    print(\"    This indicates that prompting is not a perfect substitute for probability measurements; the prompt's wording introduces a 'performance' factor that can obscure the model's underlying 'competence'.\")"
   ]
  },
  {
   "cell_type": "markdown",
   "metadata": {},
   "source": [
    "### Result and Analysis"
   ]
  },
  {
   "cell_type": "code",
   "execution_count": 14,
   "metadata": {},
   "outputs": [
    {
     "name": "stdout",
     "output_type": "stream",
     "text": [
      "Using device: cpu\n",
      "Loading model: deepseek-ai/deepseek-coder-1.3b-base...\n"
     ]
    },
    {
     "name": "stderr",
     "output_type": "stream",
     "text": [
      "/Users/liangxinyu/miniconda3/lib/python3.8/site-packages/huggingface_hub/file_download.py:943: FutureWarning: `resume_download` is deprecated and will be removed in version 1.0.0. Downloads always resume when possible. If you want to force a new download, use `force_download=True`.\n",
      "  warnings.warn(\n",
      "Special tokens have been added in the vocabulary, make sure the associated word embeddings are fine-tuned or trained.\n",
      "/Users/liangxinyu/miniconda3/lib/python3.8/site-packages/torch/_utils.py:831: UserWarning: TypedStorage is deprecated. It will be removed in the future and UntypedStorage will be the only storage class. This should only matter to you if you are using storages directly.  To access UntypedStorage directly, use tensor.untyped_storage() instead of tensor.storage()\n",
      "  return self.fget.__get__(instance, owner)()\n",
      "/Users/liangxinyu/miniconda3/lib/python3.8/site-packages/huggingface_hub/file_download.py:943: FutureWarning: `resume_download` is deprecated and will be removed in version 1.0.0. Downloads always resume when possible. If you want to force a new download, use `force_download=True`.\n",
      "  warnings.warn(\n",
      "python(51386) MallocStackLogging: can't turn off malloc stack logging because it was not enabled.\n"
     ]
    },
    {
     "name": "stdout",
     "output_type": "stream",
     "text": [
      "Model loaded.\n",
      "Loading dataset from: datasets/exp2/dtfit/corpus.csv\n",
      "Loaded and renamed 395 total items. Columns are now: ['item_id', 'prefix', 'plausible', 'implausible', 'category', 'good_human_score', 'bad_human_score']\n",
      "Subsampling to 395 items...\n",
      "\n",
      "Running experiment on 395 items...\n"
     ]
    },
    {
     "name": "stderr",
     "output_type": "stream",
     "text": [
      "100%|██████████| 395/395 [1:41:52<00:00, 15.47s/it]\n"
     ]
    },
    {
     "name": "stdout",
     "output_type": "stream",
     "text": [
      "Detailed results and log probabilities saved to 'detailed_experiment_2_output.csv'\n",
      "\n",
      "--- Experiment 2 Full Reproduction Results ---\n",
      "Model used: deepseek-ai/deepseek-coder-1.3b-base\n",
      "\n",
      "--- Task Performance (Accuracy) ---\n",
      "Proportion of items where P(plausible) > P(implausible)\n",
      "\n",
      "direct                : 72.15%\n",
      "MetaQuestionSimple    : 65.82%\n",
      "MetaInstruct          : 65.06%\n",
      "MetaQuestionComplex   : 54.43%\n",
      "\n",
      "--- Internal Consistency (Pearson Correlation) ---\n",
      "Correlation of log-prob differentials between Direct and Metalinguistic methods.\n",
      "\n",
      "Direct vs. MetaQuestionSimple  : r = 0.773 (p = 0.000)\n",
      "Direct vs. MetaInstruct        : r = 0.760 (p = 0.000)\n",
      "Direct vs. MetaQuestionComplex : r = 0.557 (p = 0.000)\n",
      "\n",
      "Generating results plot...\n",
      "Plot saved as 'experiment_2_results.pdf'\n"
     ]
    },
    {
     "data": {
      "image/png": "[encoded data removed]",
      "text/plain": [
       "<Figure size 1000x600 with 1 Axes>"
      ]
     },
     "metadata": {},
     "output_type": "display_data"
    },
    {
     "name": "stdout",
     "output_type": "stream",
     "text": [
      "\n",
      "========================= Analysis of Results =========================\n",
      "\n",
      "[1] Summary of the Experiment\n",
      "------------------------------\n",
      "I have replicated Experiment 2 from Hu & Levy (2023) using the 'deepseek-ai/deepseek-coder-1.3b-base' model.\n",
      "The experiment was run on 395 samples from the provided dataset.\n",
      "Four methods were tested to evaluate the model's knowledge of semantic plausibility:\n",
      "  - Direct: Checking raw next-word probabilities.\n",
      "  - MetaQuestionSimple, MetaInstruct, MetaQuestionComplex: Querying the model using natural language prompts.\n",
      "\n",
      "[2] Key Findings\n",
      "------------------------------\n",
      "The results align with the primary findings of the original paper:\n",
      "  - Finding A (Result #2 from paper): The 'Direct' measurement method achieves the highest accuracy.\n",
      "    This suggests that directly querying the model's probability distribution is the most reliable way to assess its core knowledge.\n",
      "  - Finding B (Result #1 from paper): The metalinguistic prompts, while performing well above chance, are less accurate than the direct method.\n",
      "    This indicates that prompting is not a perfect substitute for probability measurements; the prompt's wording introduces a 'performance' factor that can obscure the model's underlying 'competence'.\n"
     ]
    }
   ],
   "source": [
    "if __name__ == \"__main__\":\n",
    "    try:\n",
    "        model, tokenizer = load_model_and_tokenizer(MODEL_NAME)\n",
    "        dataset_sample = load_and_prepare_dataset(DATASET_PATH, NUM_SAMPLES, RANDOM_SEED)\n",
    "        \n",
    "        results_df = run_experiment(model, tokenizer, dataset_sample)\n",
    "        \n",
    "        save_detailed_results(results_df)\n",
    "\n",
    "        analyze_results(results_df)\n",
    "        \n",
    "        generate_results_plot(results_df, PROMPT_TEMPLATES)\n",
    "\n",
    "        comment_on_results(results_df, PROMPT_TEMPLATES)\n",
    "\n",
    "    except Exception as e:\n",
    "        print(f\"\\nAn error occurred: {e}\")\n",
    "        import traceback\n",
    "        traceback.print_exc() # Print full traceback for better debugging\n",
    "        print(\"\\nSomething wrong\")"
   ]
  },
  {
   "cell_type": "markdown",
   "metadata": {},
   "source": [
    "### Example"
   ]
  },
  {
   "cell_type": "code",
   "execution_count": 15,
   "metadata": {},
   "outputs": [
    {
     "name": "stdout",
     "output_type": "stream",
     "text": [
      "\n",
      "========================= Novel Sentence Tests =========================\n",
      "\n",
      "==================== Testing New Sentence ====================\n",
      "Prefix: 'John went to the vegetable market and bought a'\n",
      "Options: 'cucumber.' (Plausible) vs. 'dress' (Implausible)\n",
      "--------------------------------------------------------------\n",
      "Direct Method:            ✅ Correct (P(cucumber.)=-18.45, P(dress)=-18.85)\n",
      "MetaQuestionSimple:       ✅ Correct (Avg. Log-Prob Diff: 3.23)\n",
      "MetaInstruct:             ✅ Correct (Avg. Log-Prob Diff: 3.19)\n",
      "MetaQuestionComplex:      ✅ Correct (Avg. Log-Prob Diff: 1.65)\n",
      "\n",
      "==================== Testing New Sentence ====================\n",
      "Prefix: 'Heidelberg University is located in  '\n",
      "Options: 'Germany' (Plausible) vs. 'Atlantic Ocean' (Implausible)\n",
      "--------------------------------------------------------------\n",
      "Direct Method:            ✅ Correct (P(Germany)=-16.31, P(Atlantic Ocean)=-17.82)\n",
      "MetaQuestionSimple:       ❌ Incorrect (Avg. Log-Prob Diff: -0.28)\n",
      "MetaInstruct:             ❌ Incorrect (Avg. Log-Prob Diff: -1.08)\n",
      "MetaQuestionComplex:      ❌ Incorrect (Avg. Log-Prob Diff: -1.61)\n",
      "\n",
      "==================== Testing New Sentence ====================\n",
      "Prefix: 'Geometry is a branch of '\n",
      "Options: 'mathematics' (Plausible) vs. 'philosophy' (Implausible)\n",
      "--------------------------------------------------------------\n",
      "Direct Method:            ✅ Correct (P(mathematics)=-13.71, P(philosophy)=-14.64)\n",
      "MetaQuestionSimple:       ✅ Correct (Avg. Log-Prob Diff: 0.19)\n",
      "MetaInstruct:             ✅ Correct (Avg. Log-Prob Diff: 0.81)\n",
      "MetaQuestionComplex:      ❌ Incorrect (Avg. Log-Prob Diff: -1.04)\n"
     ]
    }
   ],
   "source": [
    "def test_single_item(model, tokenizer, prefix, plausible, implausible):\n",
    "\n",
    "    print(\"\\n\" + \"=\"*20 + \" Testing New Sentence \" + \"=\"*20)\n",
    "    print(f\"Prefix: '{prefix}'\")\n",
    "    print(f\"Options: '{plausible}' (Plausible) vs. '{implausible}' (Implausible)\")\n",
    "    print(\"-\" * 62)\n",
    "\n",
    "    options_a = [plausible, implausible]\n",
    "    options_b = [implausible, plausible]\n",
    "\n",
    "    # --- Direct Method ---\n",
    "    direct_probs = get_log_probs_of_continuations(model, tokenizer, prefix, options_a)\n",
    "    direct_result = \"✅ Correct\" if direct_probs[0] > direct_probs[1] else \"❌ Incorrect\"\n",
    "    print(f\"{'Direct Method:':<25} {direct_result} (P({plausible})={direct_probs[0]:.2f}, P({implausible})={direct_probs[1]:.2f})\")\n",
    "\n",
    "    # --- Metalinguistic Methods ---\n",
    "    for method_name, template in PROMPT_TEMPLATES.items():\n",
    "        prompt_a = template.format(prefix=prefix, option1=options_a[0], option2=options_a[1])\n",
    "        meta_probs_a = get_log_probs_of_continuations(model, tokenizer, prompt_a, options_a)\n",
    "        \n",
    "        prompt_b = template.format(prefix=prefix, option1=options_b[0], option2=options_b[1])\n",
    "        meta_probs_b = get_log_probs_of_continuations(model, tokenizer, prompt_b, options_b)\n",
    "        \n",
    "        diff_a = meta_probs_a[0] - meta_probs_a[1]\n",
    "        diff_b = meta_probs_b[1] - meta_probs_b[0] \n",
    "        avg_diff = (diff_a + diff_b) / 2\n",
    "        \n",
    "        meta_result = \"✅ Correct\" if avg_diff > 0 else \"❌ Incorrect\"\n",
    "        \n",
    "        print(f\"{method_name+':':<25} {meta_result} (Avg. Log-Prob Diff: {avg_diff:.2f})\")\n",
    "\n",
    "new_sentences = [\n",
    "    {\n",
    "        \"prefix\": \"John went to the vegetable market and bought a\",\n",
    "        \"plausible\": \"cucumber.\",\n",
    "        \"implausible\": \"dress\"\n",
    "    },\n",
    "    {\n",
    "        \"prefix\": \"Heidelberg University is located in  \",\n",
    "        \"plausible\": \"Germany\",\n",
    "        \"implausible\": \"Atlantic Ocean\"\n",
    "    },\n",
    "    {\n",
    "        \"prefix\": \"Geometry is a branch of \",\n",
    "        \"plausible\": \"mathematics\",\n",
    "        \"implausible\": \"philosophy\"\n",
    "    }\n",
    "\n",
    "]\n",
    "\n",
    "\n",
    "print(\"\\n\" + \"=\"*25 + \" Novel Sentence Tests \" + \"=\"*25)\n",
    "if 'model' in locals() and 'tokenizer' in locals():\n",
    "    for sentence_data in new_sentences:\n",
    "        test_single_item(\n",
    "            model,\n",
    "            tokenizer,\n",
    "            prefix=sentence_data[\"prefix\"],\n",
    "            plausible=sentence_data[\"plausible\"],\n",
    "            implausible=sentence_data[\"implausible\"]\n",
    "        )\n",
    "else:\n",
    "    print(\"Model and tokenizer not found\")"
   ]
  }
 ],
 "metadata": {
  "kernelspec": {
   "display_name": "base",
   "language": "python",
   "name": "python3"
  },
  "language_info": {
   "codemirror_mode": {
    "name": "ipython",
    "version": 3
   },
   "file_extension": ".py",
   "mimetype": "text/x-python",
   "name": "python",
   "nbconvert_exporter": "python",
   "pygments_lexer": "ipython3",
   "version": "3.8.12"
  }
 },
 "nbformat": 4,
 "nbformat_minor": 2
}
