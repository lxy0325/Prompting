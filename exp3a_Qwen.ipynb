{
 "cells": [
  {
   "cell_type": "code",
   "execution_count": 2,
   "metadata": {},
   "outputs": [],
   "source": [
    "import torch\n",
    "from transformers import AutoTokenizer, AutoModelForCausalLM\n",
    "import pandas as pd\n",
    "from scipy.stats import pearsonr\n",
    "from tqdm import tqdm\n",
    "import os\n",
    "import matplotlib.pyplot as plt\n",
    "import seaborn as sns\n",
    "import numpy as np"
   ]
  },
  {
   "cell_type": "code",
   "execution_count": 3,
   "metadata": {},
   "outputs": [],
   "source": [
    "MODEL_NAME = \"deepseek-ai/DeepSeek-R1-Distill-Qwen-1.5B\"\n",
    "DEVICE = \"cuda\" if torch.cuda.is_available() else \"cpu\""
   ]
  },
  {
   "cell_type": "code",
   "execution_count": 4,
   "metadata": {},
   "outputs": [],
   "source": [
    "DATASET_EXP3a_PATH = \"/Users/liangxinyu/Desktop/XinyuLiang-prompting/datasets/exp3/blimp/corpus.csv\"\n",
    "NUM_SAMPLES = 390 \n",
    "RANDOM_SEED = 42"
   ]
  },
  {
   "cell_type": "code",
   "execution_count": 5,
   "metadata": {},
   "outputs": [],
   "source": [
    "PROMPT_TEMPLATES_EXP3a = {\n",
    "    \"MetaQuestionSimple\": (\n",
    "        \"Is the following sentence a good sentence of English?\\n{sentence}\\n\"\n",
    "    ),\n",
    "    \"MetaInstruct\": (\n",
    "        \"You are a helpful writing assistant.\\n\"\n",
    "        \"Is the following sentence a good sentence of English?\\n{sentence}\\n\"\n",
    "    ),\n",
    "    \"MetaQuestionComplex\": (\n",
    "        \"Here is a sentence:\\n{sentence}\\n\"\n",
    "        \"Is this a good sentence of English?\\n\"\n",
    "    ),\n",
    "}"
   ]
  },
  {
   "cell_type": "code",
   "execution_count": 6,
   "metadata": {},
   "outputs": [],
   "source": [
    "def load_model_and_tokenizer(model_name):\n",
    "    print(f\"Using device: {DEVICE}\")\n",
    "    import transformers as _tf\n",
    "    print(f\"Transformers version: {_tf.__version__}\")\n",
    "    print(f\"Loading model: {model_name}...\")\n",
    "\n",
    "    tokenizer = AutoTokenizer.from_pretrained(model_name, trust_remote_code=True, use_fast=True)\n",
    "    if tokenizer.pad_token_id is None:\n",
    "        tokenizer.pad_token = tokenizer.eos_token\n",
    "\n",
    "    model = AutoModelForCausalLM.from_pretrained(\n",
    "        model_name,\n",
    "        trust_remote_code=True,\n",
    "        use_safetensors=True,                         # 关键：强制 safetensors\n",
    "        torch_dtype=(torch.float16 if DEVICE in (\"cuda\", \"mps\") else torch.float32),\n",
    "        attn_implementation=\"sdpa\",\n",
    "        low_cpu_mem_usage=True,\n",
    "    ).to(DEVICE)\n",
    "    model.eval()\n",
    "    return model, tokenizer\n"
   ]
  },
  {
   "cell_type": "code",
   "execution_count": 7,
   "metadata": {},
   "outputs": [],
   "source": [
    "def load_and_prepare_dataset_exp3a(filepath, num_samples, seed):\n",
    "\n",
    "    print(f\"Loading dataset for Experiment 3a from: {filepath}\")\n",
    "    if not os.path.exists(filepath):\n",
    "        raise FileNotFoundError(f\"Dataset file not found at: {filepath}. Please update the DATASET_EXP3a_PATH variable.\")\n",
    "\n",
    "    df = pd.read_csv(filepath)\n",
    "    \n",
    "    required_cols = {'good_sentence', 'bad_sentence'}\n",
    "    if not required_cols.issubset(df.columns):\n",
    "        raise ValueError(f\"Dataset must contain the columns: {list(required_cols)}\")\n",
    "\n",
    "    df = df.rename(columns={\n",
    "        \"good_sentence\": \"grammatical\",\n",
    "        \"bad_sentence\": \"ungrammatical\"\n",
    "    })\n",
    "    \n",
    "    print(f\"Loaded and renamed {len(df)} total items.\")\n",
    "    print(f\"Subsampling to {num_samples} items...\")\n",
    "    \n",
    "    dataset_sample_df = df.sample(n=num_samples, random_state=seed)\n",
    "    \n",
    "    return dataset_sample_df.to_dict('records')"
   ]
  },
  {
   "cell_type": "code",
   "execution_count": 8,
   "metadata": {},
   "outputs": [],
   "source": [
    "def get_full_sentence_log_prob(model, tokenizer, sentence):\n",
    "\n",
    "    with torch.no_grad():\n",
    "        inputs = tokenizer(sentence, return_tensors=\"pt\").to(DEVICE)\n",
    "        input_ids = inputs.input_ids\n",
    "\n",
    "        inputs.pop(\"token_type_ids\", None)\n",
    "        \n",
    "        # For very short sentences, handle edge case\n",
    "        if input_ids.shape[1] <= 1:\n",
    "            return 0.0\n",
    "\n",
    "        outputs = model(**inputs, labels=input_ids)\n",
    "        \n",
    "        log_likelihood = -outputs.loss.item() * (input_ids.shape[1] - 1)\n",
    "        \n",
    "        return log_likelihood"
   ]
  },
  {
   "cell_type": "code",
   "execution_count": 9,
   "metadata": {},
   "outputs": [],
   "source": [
    "def get_log_probs_of_options(model, tokenizer, text_prompt, options):\n",
    "    \"\"\"\n",
    "    'Yes' / 'No' as the very next token:\n",
    "    Encode [prompt] and [prompt + option] and take the first token\n",
    "    after the prompt boundary for each option.\n",
    "    \"\"\"\n",
    "    model.eval()\n",
    "    with torch.inference_mode():\n",
    "        # next token is the answer\n",
    "        prompt = text_prompt.rstrip() + \"\\n\"\n",
    "\n",
    "        inputs = tokenizer(prompt, return_tensors=\"pt\").to(DEVICE)\n",
    "        inputs.pop(\"token_type_ids\", None)\n",
    "        logits_next = model(**inputs).logits[0, -1, :]\n",
    "        log_probs = torch.nn.functional.log_softmax(logits_next, dim=-1)\n",
    "\n",
    "        prompt_ids = tokenizer(prompt, add_special_tokens=False).input_ids\n",
    "        scores = []\n",
    "        for opt in options:\n",
    "            opt_clean = opt.strip()\n",
    "            concat_ids = tokenizer(prompt + opt_clean, add_special_tokens=False).input_ids\n",
    "            if len(concat_ids) <= len(prompt_ids):\n",
    "                concat_ids = tokenizer(prompt + \" \" + opt_clean, add_special_tokens=False).input_ids\n",
    "            if len(concat_ids) <= len(prompt_ids):\n",
    "                raise ValueError(\"Could not identify answer boundary for option: {}\".format(opt_clean))\n",
    "            first_token_id = concat_ids[len(prompt_ids)]\n",
    "            scores.append(log_probs[first_token_id].item())\n",
    "\n",
    "        return scores"
   ]
  },
  {
   "cell_type": "code",
   "execution_count": 10,
   "metadata": {},
   "outputs": [],
   "source": [
    "def run_experiment_3a(model, tokenizer, dataset):\n",
    "\n",
    "    results = []\n",
    "    print(f\"\\nRunning Experiment 3a on {len(dataset)} items...\")\n",
    "    \n",
    "    for item in tqdm(dataset):\n",
    "        grammatical_sent = item[\"grammatical\"]\n",
    "        ungrammatical_sent = item[\"ungrammatical\"]\n",
    "        \n",
    "        item_results = {\"grammatical\": grammatical_sent, \"ungrammatical\": ungrammatical_sent}\n",
    "\n",
    "        # Direct\n",
    "        item_results['direct_log_prob_grammatical'] = get_full_sentence_log_prob(model, tokenizer, grammatical_sent)\n",
    "        item_results['direct_log_prob_ungrammatical'] = get_full_sentence_log_prob(model, tokenizer, ungrammatical_sent)\n",
    "\n",
    "        # Metalinguistic\n",
    "        options = [\"Yes\", \"No\"]\n",
    "        for method_name, template in PROMPT_TEMPLATES_EXP3a.items():\n",
    "            # GRAMMATICAL\n",
    "            prompt_grammatical = template.format(sentence=grammatical_sent)\n",
    "            log_probs_grammatical = get_log_probs_of_options(model, tokenizer, prompt_grammatical, options)\n",
    "            item_results[f'{method_name}_log_prob_yes_grammatical'] = log_probs_grammatical[0]\n",
    "            item_results[f'{method_name}_log_prob_no_grammatical'] = log_probs_grammatical[1]\n",
    "\n",
    "            # UNGRAMMATICAL\n",
    "            prompt_ungrammatical = template.format(sentence=ungrammatical_sent)\n",
    "            log_probs_ungrammatical = get_log_probs_of_options(model, tokenizer, prompt_ungrammatical, options)\n",
    "            item_results[f'{method_name}_log_prob_yes_ungrammatical'] = log_probs_ungrammatical[0]\n",
    "            item_results[f'{method_name}_log_prob_no_ungrammatical'] = log_probs_ungrammatical[1]\n",
    "\n",
    "        results.append(item_results)\n",
    "\n",
    "    return pd.DataFrame(results)"
   ]
  },
  {
   "cell_type": "markdown",
   "metadata": {},
   "source": [
    "##        ANALYSIS & PLOTTING"
   ]
  },
  {
   "cell_type": "code",
   "execution_count": 11,
   "metadata": {},
   "outputs": [],
   "source": [
    "def analyze_results_exp3a(df):\n",
    "\n",
    "    print(\"\\n\" + \"=\"*20 + \" Experiment 3a: Full Reproduction Results \" + \"=\"*20)\n",
    "    print(f\"Model used: {MODEL_NAME}\")\n",
    "\n",
    "    print(\"\\n--- Task Performance (Accuracy) ---\")\n",
    "    print(\"Direct method uses standard accuracy. Metalinguistic methods use Balanced Accuracy.\\n\")\n",
    "    \n",
    "    # Direct\n",
    "    direct_correct = (df['direct_log_prob_grammatical'] > df['direct_log_prob_ungrammatical']).sum()\n",
    "    direct_accuracy = direct_correct / len(df)\n",
    "    print(f\"{'direct':<22}: {direct_accuracy:.2%}\")\n",
    "\n",
    "    # Metalinguistic\n",
    "    for method in PROMPT_TEMPLATES_EXP3a.keys():\n",
    "        # True Positives: Grammatical sentences with P(Yes) > P(No)\n",
    "        tp = (df[f'{method}_log_prob_yes_grammatical'] > df[f'{method}_log_prob_no_grammatical']).sum()\n",
    "        # True Negatives: Ungrammatical sentences with P(No) > P(Yes)\n",
    "        tn = (df[f'{method}_log_prob_no_ungrammatical'] > df[f'{method}_log_prob_yes_ungrammatical']).sum()\n",
    "        \n",
    "        tpr = tp / len(df)  # TP\n",
    "        tnr = tn / len(df)  # TN\n",
    "        \n",
    "        balanced_accuracy = (tpr + tnr) / 2\n",
    "        print(f\"{method:<22}: {balanced_accuracy:.2%}\")\n",
    "\n",
    "    print(\"\\n--- Internal Consistency (Pearson Correlation) ---\")\n",
    "    print(\"Correlation of log-prob differentials between Direct and Metalinguistic methods.\\n\")\n",
    "    \n",
    "    # Direct differential\n",
    "    df['direct_diff'] = df['direct_log_prob_grammatical'] - df['direct_log_prob_ungrammatical']\n",
    "\n",
    "    # Metalinguistic differential\n",
    "    for method in PROMPT_TEMPLATES_EXP3a.keys():\n",
    "        df[f'{method}_diff'] = df[f'{method}_log_prob_yes_grammatical'] - df[f'{method}_log_prob_yes_ungrammatical']\n",
    "        \n",
    "        corr, p_value = pearsonr(df['direct_diff'], df[f'{method}_diff'])\n",
    "        print(f\"Direct vs. {method:<20}: r = {corr:.3f} (p = {p_value:.3f})\")"
   ]
  },
  {
   "cell_type": "code",
   "execution_count": 12,
   "metadata": {},
   "outputs": [],
   "source": [
    "def generate_results_plot_exp3a(results_df):\n",
    "\n",
    "    print(\"\\nGenerating results plot for Experiment 3a...\")\n",
    "    \n",
    "    methods = [\"direct\"] + list(PROMPT_TEMPLATES_EXP3a.keys())\n",
    "    accuracies = []\n",
    "    \n",
    "    direct_correct = (results_df['direct_log_prob_grammatical'] > results_df['direct_log_prob_ungrammatical']).sum()\n",
    "    accuracies.append(direct_correct / len(results_df))\n",
    "\n",
    "    for method in PROMPT_TEMPLATES_EXP3a.keys():\n",
    "        tp = (results_df[f'{method}_log_prob_yes_grammatical'] > results_df[f'{method}_log_prob_no_grammatical']).sum()\n",
    "        tn = (results_df[f'{method}_log_prob_no_ungrammatical'] > results_df[f'{method}_log_prob_yes_ungrammatical']).sum()\n",
    "        accuracies.append(((tp / len(results_df)) + (tn / len(results_df))) / 2)\n",
    "\n",
    "    plot_labels = ['Direct', 'MetaQuestionSimple', 'MetaInstruct', 'MetaQuestionComplex']\n",
    "    \n",
    "    plt.style.use('seaborn-v0_8-whitegrid')\n",
    "    fig, ax = plt.subplots(figsize=(10, 6))\n",
    "\n",
    "    colors = ['#2f2f2f', '#8f6A7B', '#c49a9a', '#f3e1d3']\n",
    "    bars = ax.bar(plot_labels, accuracies, color=colors, edgecolor='black')\n",
    "    \n",
    "    ax.axhline(y=0.5, color='gray', linestyle='--', linewidth=1.5, label='Random Baseline (50%)')\n",
    "\n",
    "    ax.set_ylabel('Accuracy', fontsize=12)\n",
    "    ax.set_title('Experiment 3a: Sentence Judgment (Syntax)', fontsize=14, pad=20)\n",
    "    ax.set_ylim(0, 1.05)\n",
    "    ax.tick_params(axis='x', rotation=15, labelsize=10)\n",
    "    ax.legend()\n",
    "    \n",
    "    for bar in bars:\n",
    "        yval = bar.get_height()\n",
    "        ax.text(bar.get_x() + bar.get_width()/2.0, yval + 0.02, f'{yval:.2%}', ha='center', va='bottom')\n",
    "\n",
    "    output_filename = 'experiment_3a_results.pdf'\n",
    "    plt.savefig(output_filename, bbox_inches='tight')\n",
    "    print(f\"Plot saved as '{output_filename}'\")\n",
    "    \n",
    "    plt.show()"
   ]
  },
  {
   "cell_type": "code",
   "execution_count": 13,
   "metadata": {},
   "outputs": [],
   "source": [
    "def save_detailed_results_exp3a(results_df, filename=\"detailed_experiment_3a_output.csv\"):\n",
    "    results_df.to_csv(filename, index=False)\n",
    "    print(f\"Detailed results for Exp3a saved to '{filename}'\")"
   ]
  },
  {
   "cell_type": "code",
   "execution_count": 14,
   "metadata": {},
   "outputs": [],
   "source": [
    "def comment_on_results_exp3a(results_df):\n",
    "    print(\"\\n\" + \"=\"*25 + \" Analysis of Experiment 3a Results \" + \"=\"*25)\n",
    "    \n",
    "    print(\"\\n[1] Summary of the Experiment\")\n",
    "    print(\"-\" * 30)\n",
    "    print(f\"This script replicated Experiment 3a (Sentence Judgment) using the '{MODEL_NAME}' model on {len(results_df)} minimal pairs from BLiMP.\")\n",
    "    print(\"We tested the model's ability to distinguish grammatical from ungrammatical sentences.\")\n",
    "    print(\"  - Direct Method: Compared the full log probability of each sentence in a pair.\")\n",
    "    print(\"  - Metalinguistic Methods: Asked the model if each sentence was 'good' and compared its confidence in answering 'Yes'.\")\n",
    "\n",
    "    print(\"\\n[2] Key Findings\")\n",
    "    print(\"-\" * 30)\n",
    "    direct_accuracy = (results_df['direct_log_prob_grammatical'] > results_df['direct_log_prob_ungrammatical']).sum() / len(results_df)\n",
    "    \n",
    "    print(f\"  - Performance: The Direct method achieved an accuracy of {direct_accuracy:.2%}. The metalinguistic prompts performed variably, but generally lower. This again shows that direct access to probabilities is a more sensitive measure of the model's internal knowledge.\")\n",
    "    print(\"  - Consistency: The Pearson correlation between the direct and metalinguistic methods is likely weak. This highlights the core finding of the paper: prompting introduces a significant 'performance' challenge. The model may 'know' a sentence is ungrammatical (assign it low probability) but fail to correctly 'report' this knowledge when asked via a natural language question.\")\n",
    "    print(\"  - Relation to Exp 3b (Preview): The paper finds that metalinguistic performance improves significantly in Experiment 3b, where sentences are presented together for comparison. The relatively low performance here in 3a sets the stage for that important finding.\")"
   ]
  },
  {
   "cell_type": "markdown",
   "metadata": {},
   "source": [
    "##           MAIN EXECUTION"
   ]
  },
  {
   "cell_type": "code",
   "execution_count": 15,
   "metadata": {},
   "outputs": [
    {
     "name": "stdout",
     "output_type": "stream",
     "text": [
      "Using device: cpu\n",
      "Transformers version: 4.56.2\n",
      "Loading model: deepseek-ai/DeepSeek-R1-Distill-Qwen-1.5B...\n"
     ]
    },
    {
     "data": {
      "application/vnd.jupyter.widget-view+json": {
       "model_id": "841d1bb97cc34fafa4624949fee61f85",
       "version_major": 2,
       "version_minor": 0
      },
      "text/plain": [
       "tokenizer_config.json: 0.00B [00:00, ?B/s]"
      ]
     },
     "metadata": {},
     "output_type": "display_data"
    },
    {
     "data": {
      "application/vnd.jupyter.widget-view+json": {
       "model_id": "7022f59458a940c5ac514835a0809221",
       "version_major": 2,
       "version_minor": 0
      },
      "text/plain": [
       "tokenizer.json: 0.00B [00:00, ?B/s]"
      ]
     },
     "metadata": {},
     "output_type": "display_data"
    },
    {
     "data": {
      "application/vnd.jupyter.widget-view+json": {
       "model_id": "51a747fce7464116a32de13f600e8466",
       "version_major": 2,
       "version_minor": 0
      },
      "text/plain": [
       "config.json:   0%|          | 0.00/679 [00:00<?, ?B/s]"
      ]
     },
     "metadata": {},
     "output_type": "display_data"
    },
    {
     "name": "stderr",
     "output_type": "stream",
     "text": [
      "`torch_dtype` is deprecated! Use `dtype` instead!\n"
     ]
    },
    {
     "data": {
      "application/vnd.jupyter.widget-view+json": {
       "model_id": "dc8e446fc6324cd8bdb72435bb7bced8",
       "version_major": 2,
       "version_minor": 0
      },
      "text/plain": [
       "model.safetensors:   0%|          | 0.00/3.55G [00:00<?, ?B/s]"
      ]
     },
     "metadata": {},
     "output_type": "display_data"
    },
    {
     "data": {
      "application/vnd.jupyter.widget-view+json": {
       "model_id": "85774e491c0e40369d399667c79017cf",
       "version_major": 2,
       "version_minor": 0
      },
      "text/plain": [
       "generation_config.json:   0%|          | 0.00/181 [00:00<?, ?B/s]"
      ]
     },
     "metadata": {},
     "output_type": "display_data"
    },
    {
     "name": "stdout",
     "output_type": "stream",
     "text": [
      "Loading dataset for Experiment 3a from: /Users/liangxinyu/Desktop/XinyuLiang-prompting/datasets/exp3/blimp/corpus.csv\n",
      "Loaded and renamed 390 total items.\n",
      "Subsampling to 390 items...\n",
      "\n",
      "Running Experiment 3a on 390 items...\n"
     ]
    },
    {
     "name": "stderr",
     "output_type": "stream",
     "text": [
      "100%|██████████| 390/390 [34:38<00:00,  5.33s/it]\n"
     ]
    },
    {
     "name": "stdout",
     "output_type": "stream",
     "text": [
      "Detailed results for Exp3a saved to 'detailed_experiment_3a_output.csv'\n",
      "\n",
      "==================== Experiment 3a: Full Reproduction Results ====================\n",
      "Model used: deepseek-ai/DeepSeek-R1-Distill-Qwen-1.5B\n",
      "\n",
      "--- Task Performance (Accuracy) ---\n",
      "Direct method uses standard accuracy. Metalinguistic methods use Balanced Accuracy.\n",
      "\n",
      "direct                : 77.69%\n",
      "MetaQuestionSimple    : 53.72%\n",
      "MetaInstruct          : 50.77%\n",
      "MetaQuestionComplex   : 50.00%\n",
      "\n",
      "--- Internal Consistency (Pearson Correlation) ---\n",
      "Correlation of log-prob differentials between Direct and Metalinguistic methods.\n",
      "\n",
      "Direct vs. MetaQuestionSimple  : r = -0.073 (p = 0.149)\n",
      "Direct vs. MetaInstruct        : r = -0.043 (p = 0.395)\n",
      "Direct vs. MetaQuestionComplex : r = 0.107 (p = 0.035)\n",
      "\n",
      "Generating results plot for Experiment 3a...\n",
      "Plot saved as 'experiment_3a_results.pdf'\n"
     ]
    },
    {
     "data": {
      "image/png": "[encoded data removed]",
      "text/plain": [
       "<Figure size 1000x600 with 1 Axes>"
      ]
     },
     "metadata": {},
     "output_type": "display_data"
    },
    {
     "name": "stdout",
     "output_type": "stream",
     "text": [
      "\n",
      "========================= Analysis of Experiment 3a Results =========================\n",
      "\n",
      "[1] Summary of the Experiment\n",
      "------------------------------\n",
      "This script replicated Experiment 3a (Sentence Judgment) using the 'deepseek-ai/DeepSeek-R1-Distill-Qwen-1.5B' model on 390 minimal pairs from BLiMP.\n",
      "We tested the model's ability to distinguish grammatical from ungrammatical sentences.\n",
      "  - Direct Method: Compared the full log probability of each sentence in a pair.\n",
      "  - Metalinguistic Methods: Asked the model if each sentence was 'good' and compared its confidence in answering 'Yes'.\n",
      "\n",
      "[2] Key Findings\n",
      "------------------------------\n",
      "  - Performance: The Direct method achieved an accuracy of 77.69%. The metalinguistic prompts performed variably, but generally lower. This again shows that direct access to probabilities is a more sensitive measure of the model's internal knowledge.\n",
      "  - Consistency: The Pearson correlation between the direct and metalinguistic methods is likely weak. This highlights the core finding of the paper: prompting introduces a significant 'performance' challenge. The model may 'know' a sentence is ungrammatical (assign it low probability) but fail to correctly 'report' this knowledge when asked via a natural language question.\n",
      "  - Relation to Exp 3b (Preview): The paper finds that metalinguistic performance improves significantly in Experiment 3b, where sentences are presented together for comparison. The relatively low performance here in 3a sets the stage for that important finding.\n"
     ]
    }
   ],
   "source": [
    "if __name__ == \"__main__\":\n",
    "    try:\n",
    "        model, tokenizer = load_model_and_tokenizer(MODEL_NAME)\n",
    "        dataset_exp3a = load_and_prepare_dataset_exp3a(DATASET_EXP3a_PATH, NUM_SAMPLES, RANDOM_SEED)\n",
    "        \n",
    "        results_df_exp3a = run_experiment_3a(model, tokenizer, dataset_exp3a)\n",
    "        \n",
    "        save_detailed_results_exp3a(results_df_exp3a)\n",
    "        analyze_results_exp3a(results_df_exp3a)\n",
    "        generate_results_plot_exp3a(results_df_exp3a)\n",
    "        comment_on_results_exp3a(results_df_exp3a)\n",
    "\n",
    "    except Exception as e:\n",
    "        print(f\"\\nAn error occurred during the execution: {e}\")\n",
    "        import traceback\n",
    "        traceback.print_exc()\n",
    "        print(\"\\nChecking code one more time\")"
   ]
  },
  {
   "cell_type": "markdown",
   "metadata": {},
   "source": [
    "## Test"
   ]
  },
  {
   "cell_type": "code",
   "execution_count": 16,
   "metadata": {},
   "outputs": [
    {
     "name": "stdout",
     "output_type": "stream",
     "text": [
      "\n",
      "========================= Experiment 3a — Novel Pair Tests =========================\n",
      "\n",
      "==================== Experiment 3a — Single Pair ====================\n",
      "Grammatical   : The keys to the cabinet are on the table.\n",
      "Ungrammatical : The keys to the cabinet is on the table.\n",
      "--------------------------------------------------------------\n",
      "Direct:            ✅  acc=1.00  Δ(logP_g - logP_u)=7.58\n",
      "MetaQuestionSimple: ➖  BA=0.50  marg=0.02  [G: Yes-No=3.07 | U: No-Yes=-3.04]\n",
      "MetaInstruct:      ➖  BA=0.50  marg=0.13  [G: Yes-No=3.59 | U: No-Yes=-3.34]\n",
      "MetaQuestionComplex: ➖  BA=0.50  marg=0.08  [G: Yes-No=3.06 | U: No-Yes=-2.89]\n",
      "--------------------------------------------------------------\n",
      "Best method: Direct   (Accuracy=1.00, tie-break margin=7.58)\n",
      "\n",
      "==================== Experiment 3a — Single Pair ====================\n",
      "Grammatical   : Who did Mary say that John met yesterday?\n",
      "Ungrammatical : Who did Mary say that John met him yesterday?\n",
      "--------------------------------------------------------------\n",
      "Direct:            ✅  acc=1.00  Δ(logP_g - logP_u)=4.19\n",
      "MetaQuestionSimple: ➖  BA=0.50  marg=0.06  [G: Yes-No=0.45 | U: No-Yes=-0.34]\n",
      "MetaInstruct:      ➖  BA=0.50  marg=0.01  [G: Yes-No=0.67 | U: No-Yes=-0.66]\n",
      "MetaQuestionComplex: ➖  BA=0.50  marg=-0.06  [G: Yes-No=2.60 | U: No-Yes=-2.72]\n",
      "--------------------------------------------------------------\n",
      "Best method: Direct   (Accuracy=1.00, tie-break margin=4.19)\n",
      "\n",
      "==================== Experiment 3a — Single Pair ====================\n",
      "Grammatical   : There seem to be many solutions.\n",
      "Ungrammatical : There seems to be many solutions.\n",
      "--------------------------------------------------------------\n",
      "Direct:            ✅  acc=1.00  Δ(logP_g - logP_u)=0.16\n",
      "MetaQuestionSimple: ➖  BA=0.50  marg=0.26  [G: Yes-No=1.44 | U: No-Yes=-0.93]\n",
      "MetaInstruct:      ➖  BA=0.50  marg=0.07  [G: Yes-No=2.80 | U: No-Yes=-2.65]\n",
      "MetaQuestionComplex: ➖  BA=0.50  marg=0.24  [G: Yes-No=4.46 | U: No-Yes=-3.98]\n",
      "--------------------------------------------------------------\n",
      "Best method: Direct   (Accuracy=1.00, tie-break margin=0.16)\n"
     ]
    }
   ],
   "source": [
    "def test_single_item_exp3a(model, tokenizer, grammatical, ungrammatical):\n",
    "    \"\"\"\n",
    "    Experiment 3a diagnostic on a *single* BLiMP-style minimal pair.\n",
    "    - Direct: compare full-sentence log-likelihoods (grammatical vs. ungrammatical).\n",
    "    - Meta: for each metalinguistic prompt, ask 'Is this a good sentence?'\n",
    "      and compute a per-item Balanced Accuracy (BA):\n",
    "         BA = 0.5 * [ I(Yes>No | grammatical) + I(No>Yes | ungrammatical) ].\n",
    "      As a tie-breaker, report the average margin:\n",
    "         margin = 0.5 * [ (logP_Yes - logP_No)_gram + (logP_No - logP_Yes)_ungram ].\n",
    "    \"\"\"\n",
    "    print(\"\\n\" + \"=\"*20 + \" Experiment 3a — Single Pair \" + \"=\"*20)\n",
    "    print(f\"Grammatical   : {grammatical}\")\n",
    "    print(f\"Ungrammatical : {ungrammatical}\")\n",
    "    print(\"-\" * 62)\n",
    "\n",
    "    results = []\n",
    "\n",
    "    # Direct\n",
    "    lp_g = get_full_sentence_log_prob(model, tokenizer, grammatical)\n",
    "    lp_u = get_full_sentence_log_prob(model, tokenizer, ungrammatical)\n",
    "    direct_diff = lp_g - lp_u\n",
    "    direct_acc = 1.0 if direct_diff > 0 else 0.0\n",
    "    print(f\"{'Direct:':<18} {'✅' if direct_acc == 1.0 else '❌'}  \"\n",
    "          f\"acc={direct_acc:.2f}  Δ(logP_g - logP_u)={direct_diff:.2f}\")\n",
    "    results.append((\"Direct\", direct_acc, abs(direct_diff)))\n",
    "\n",
    "    # Metalinguistic prompts\n",
    "    options = [\"Yes\", \"No\"]\n",
    "    for method_name, template in PROMPT_TEMPLATES_EXP3a.items():\n",
    "        prompt_g = template.format(sentence=grammatical)\n",
    "        lp_yes_g, lp_no_g = get_log_probs_of_options(model, tokenizer, prompt_g, options)\n",
    "\n",
    "        prompt_u = template.format(sentence=ungrammatical)\n",
    "        lp_yes_u, lp_no_u = get_log_probs_of_options(model, tokenizer, prompt_u, options)\n",
    "\n",
    "        pred_g = (lp_yes_g > lp_no_g)   # Yes\n",
    "        pred_u = (lp_no_u > lp_yes_u)   # No\n",
    "\n",
    "        ba = 0.5 * (float(pred_g) + float(pred_u))\n",
    "        margin = 0.5 * ((lp_yes_g - lp_no_g) + (lp_no_u - lp_yes_u))\n",
    "\n",
    "        print(f\"{method_name+':':<18} \"\n",
    "              f\"{'✅' if ba == 1.0 else ('➖' if ba == 0.5 else '❌')}  \"\n",
    "              f\"BA={ba:.2f}  \"\n",
    "              f\"marg={margin:.2f}  \"\n",
    "              f\"[G: Yes-No={lp_yes_g - lp_no_g:.2f} | U: No-Yes={lp_no_u - lp_yes_u:.2f}]\")\n",
    "\n",
    "        results.append((method_name, ba, margin))\n",
    "\n",
    "    best_name, best_score, best_tie = max(results, key=lambda t: (t[1], t[2]))\n",
    "    print(\"-\" * 62)\n",
    "    label = \"Balanced Acc.\" if best_name != \"Direct\" else \"Accuracy\"\n",
    "    print(f\"Best method: {best_name}   ({label}={best_score:.2f}, tie-break margin={best_tie:.2f})\")\n",
    "\n",
    "\n",
    "new_pairs_exp3a = [\n",
    "    {\n",
    "        \"grammatical\":   \"The keys to the cabinet are on the table.\",\n",
    "        \"ungrammatical\": \"The keys to the cabinet is on the table.\"\n",
    "    },\n",
    "    {\n",
    "        \"grammatical\":   \"Who did Mary say that John met yesterday?\",\n",
    "        \"ungrammatical\": \"Who did Mary say that John met him yesterday?\"\n",
    "    },\n",
    "    {\n",
    "        \"grammatical\":   \"There seem to be many solutions.\",\n",
    "        \"ungrammatical\": \"There seems to be many solutions.\"\n",
    "    },\n",
    "]\n",
    "\n",
    "print(\"\\n\" + \"=\"*25 + \" Experiment 3a — Novel Pair Tests \" + \"=\"*25)\n",
    "if 'model' in locals() and 'tokenizer' in locals():\n",
    "    for pair in new_pairs_exp3a:\n",
    "        test_single_item_exp3a(\n",
    "            model,\n",
    "            tokenizer,\n",
    "            grammatical=pair[\"grammatical\"],\n",
    "            ungrammatical=pair[\"ungrammatical\"]\n",
    "        )\n",
    "else:\n",
    "    print(\"Model and tokenizer not found\")"
   ]
  }
 ],
 "metadata": {
  "kernelspec": {
   "display_name": "base",
   "language": "python",
   "name": "python3"
  },
  "language_info": {
   "codemirror_mode": {
    "name": "ipython",
    "version": 3
   },
   "file_extension": ".py",
   "mimetype": "text/x-python",
   "name": "python",
   "nbconvert_exporter": "python",
   "pygments_lexer": "ipython3",
   "version": "3.11.7"
  }
 },
 "nbformat": 4,
 "nbformat_minor": 2
}
